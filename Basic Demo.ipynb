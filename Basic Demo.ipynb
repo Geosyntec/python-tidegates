{
 "cells": [
  {
   "cell_type": "markdown",
   "metadata": {},
   "source": [
    "# Tidegate Desktop Tool Demo"
   ]
  },
  {
   "cell_type": "markdown",
   "metadata": {},
   "source": [
    "## Basic import statements"
   ]
  },
  {
   "cell_type": "code",
   "execution_count": null,
   "metadata": {
    "collapsed": false
   },
   "outputs": [],
   "source": [
    "import arcpy\n",
    "import tidegates  # <-- our module"
   ]
  },
  {
   "cell_type": "markdown",
   "metadata": {},
   "source": [
    "## Inputs that come from the Toolbox"
   ]
  },
  {
   "cell_type": "code",
   "execution_count": null,
   "metadata": {
    "collapsed": true
   },
   "outputs": [],
   "source": [
    "workspace = r'F:\\Tidegates\\MB_InputLayers.gdb'\n",
    "dem = r'F:\\Tidegates\\MB_InputLayers.gdb\\cape_dem'\n",
    "polygons = r'F:\\Tidegates\\MB_InputLayers.gdb\\ZOI'\n",
    "tidegate_column = 'GeoID'\n",
    "sea_level_rise = 1\n",
    "storm_surge = '10-yr'\n",
    "filename = 'flood_10yr_01ft'"
   ]
  },
  {
   "cell_type": "markdown",
   "metadata": {},
   "source": [
    "## Create a new scenario"
   ]
  },
  {
   "cell_type": "code",
   "execution_count": null,
   "metadata": {
    "collapsed": false,
    "scrolled": true
   },
   "outputs": [],
   "source": [
    "with tidegates.utils.WorkSpace(workspace), tidegates.utils.OverwriteState(True):\n",
    "    flood = tidegates.flood_area(\n",
    "        dem=dem, \n",
    "        polygons=polygons, \n",
    "        tidegate_column=tidegate_column, \n",
    "        sea_level_rise=sea_level_rise, \n",
    "        storm_surge=storm_surge, \n",
    "        filename=filename\n",
    "    )"
   ]
  },
  {
   "cell_type": "markdown",
   "metadata": {},
   "source": [
    "## Assess the impacts of the scenario"
   ]
  },
  {
   "cell_type": "code",
   "execution_count": null,
   "metadata": {
    "collapsed": false
   },
   "outputs": [],
   "source": [
    "with tidegates.utils.WorkSpace(workspace):\n",
    "    impacts = tidegates.assess_impact(\n",
    "        flood_layer=filename, \n",
    "        overwrite=True\n",
    "    )"
   ]
  }
 ],
 "metadata": {
  "kernelspec": {
   "display_name": "Python 3",
   "language": "python",
   "name": "python3"
  },
  "language_info": {
   "codemirror_mode": {
    "name": "ipython",
    "version": 3
   },
   "file_extension": ".py",
   "mimetype": "text/x-python",
   "name": "python",
   "nbconvert_exporter": "python",
   "pygments_lexer": "ipython3",
   "version": "3.4.3"
  }
 },
 "nbformat": 4,
 "nbformat_minor": 0
}

{
 "cells": [
  {
   "cell_type": "markdown",
   "metadata": {},
   "source": [
    "# Tidegate Desktop Tool Demo"
   ]
  },
  {
   "cell_type": "markdown",
   "metadata": {},
   "source": [
    "## Basic import statements"
   ]
  },
  {
   "cell_type": "code",
   "execution_count": null,
   "metadata": {
    "collapsed": false
   },
   "outputs": [],
   "source": [
    "import arcpy\n",
    "import numpy\n",
    "\n",
    "import tidegates  # <-- our module"
   ]
  },
  {
   "cell_type": "markdown",
   "metadata": {},
   "source": [
    "## Inputs that come from the Toolbox"
   ]
  },
  {
   "cell_type": "code",
   "execution_count": null,
   "metadata": {
    "collapsed": true
   },
   "outputs": [],
   "source": [
    "workspace = r'F:\\phobson\\Tidegates\\MB_InputLayers.gdb'\n",
    "dem = r'F:\\phobson\\Tidegates\\MB_InputLayers.gdb\\cape_dem'\n",
    "polygons = r'F:\\phobson\\Tidegates\\MB_InputLayers.gdb\\ZOI'\n",
    "tidegate_column = 'GeoID'\n",
    "sea_level_rise = 1\n",
    "storm_surge = '10-yr'\n",
    "filename = 'flood_10yr_01ft'\n",
    "\n",
    "\n",
    "def make_name(surge, slr):\n",
    "    return \"PF_S{:s}_{:02d}ft\".format(surge.replace('-',''), slr)"
   ]
  },
  {
   "cell_type": "markdown",
   "metadata": {},
   "source": [
    "## Create a new scenario"
   ]
  },
  {
   "cell_type": "code",
   "execution_count": null,
   "metadata": {
    "collapsed": true
   },
   "outputs": [],
   "source": [
    "SEALEVELRISE = numpy.arange(0, 7) # 0 through 6 in 1-ft increments\n",
    "for surge in tidegates.SURGES.keys():\n",
    "    for slr in SEALEVELRISE:\n",
    "        layer_name = make_name(surge, slr)\n",
    "        print('\\t' + layer_name)\n",
    "        with tidegates.utils.WorkSpace(workspace), tidegates.utils.OverwriteState(True):\n",
    "            flood = tidegates.flood_area(\n",
    "                dem=dem, \n",
    "                polygons=polygons, \n",
    "                tidegate_column=tidegate_column, \n",
    "                sea_level_rise=slr, \n",
    "                storm_surge=surge, \n",
    "                filename=layer_name\n",
    "            )\n",
    "            \n",
    "            arcpy.management.AddField(\n",
    "                in_table=flood.getOutput(0),\n",
    "                field_name='SLR',\n",
    "                field_type='DOUBLE'\n",
    "            )\n",
    "            \n",
    "            arcpy.management.AddField(\n",
    "                in_table=flood.getOutput(0),\n",
    "                field_name='surge',\n",
    "                field_type='TEXT',\n",
    "                field_length=10\n",
    "            )\n",
    "            \n",
    "            cur = arcpy.UpdateCursor(flood.getOutput(0))\n",
    "            for row in cur:\n",
    "                row.SLR = slr\n",
    "                row.surge = surge\n",
    "                cur.updateRow(row)\n",
    "\n",
    "            del cur, row"
   ]
  },
  {
   "cell_type": "code",
   "execution_count": null,
   "metadata": {
    "collapsed": false
   },
   "outputs": [],
   "source": [
    "layers = []\n",
    "for slr in range(7):\n",
    "    for surge in tidegates.SURGES.keys():\n",
    "        layer_name = make_name(surge, slr)\n",
    "        layers.append(layer_name)\n",
    "\n",
    "with tidegates.utils.WorkSpace(workspace), tidegates.utils.OverwriteState(True):\n",
    "    arcpy.management.Merge(layers, 'merged_01')"
   ]
  },
  {
   "cell_type": "markdown",
   "metadata": {},
   "source": [
    "## Assess the impacts of the scenario"
   ]
  },
  {
   "cell_type": "code",
   "execution_count": null,
   "metadata": {
    "collapsed": false
   },
   "outputs": [],
   "source": [
    "with tidegates.utils.WorkSpace(workspace):\n",
    "    impacts = tidegates.assess_impact(\n",
    "        flood_layer='merged_01',\n",
    "        input_gdb=workspace,    \n",
    "        overwrite=True\n",
    "    )"
   ]
  }
 ],
 "metadata": {
  "kernelspec": {
   "display_name": "Python 2",
   "language": "python",
   "name": "python2"
  },
  "language_info": {
   "codemirror_mode": {
    "name": "ipython",
    "version": 2
   },
   "file_extension": ".py",
   "mimetype": "text/x-python",
   "name": "python",
   "nbconvert_exporter": "python",
   "pygments_lexer": "ipython2",
   "version": "2.7.10"
  }
 },
 "nbformat": 4,
 "nbformat_minor": 0
}

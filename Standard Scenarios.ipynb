{
 "cells": [
  {
   "cell_type": "code",
   "execution_count": 1,
   "metadata": {
    "collapsed": false
   },
   "outputs": [],
   "source": [
    "import os\n",
    "\n",
    "import arcpy\n",
    "\n",
    "import numpy\n",
    "\n",
    "import tidegates\n",
    "\n",
    "workspace = r\"..\\MB_InputLayers.gdb\"\n",
    "\n",
    "SEALEVELRISE = numpy.arange(0, 7) # 0 through 6 in 1-ft increments"
   ]
  },
  {
   "cell_type": "code",
   "execution_count": 2,
   "metadata": {
    "collapsed": false,
    "scrolled": false
   },
   "outputs": [
    {
     "name": "stdout",
     "output_type": "stream",
     "text": [
      "prelim_flood_surge10-yr_rise0\n",
      "1/9 ..\\MB_InputLayers.gdb\n",
      "2/9 cape_dem raster loaded\n",
      "3/9 ZOI polygon processed\n",
      "4/9 topo clipped\n",
      "5/9 rasters to arrays\n",
      "6/9 mask things\n",
      "7/9 coverted back to raster and saved\n",
      "8/9 convert to polygon in ..\\MB_InputLayers.gdb\n"
     ]
    },
    {
     "ename": "ExecuteError",
     "evalue": "ERROR 000582: Error occurred during execution.\n",
     "output_type": "error",
     "traceback": [
      "\u001b[1;31m---------------------------------------------------------------------------\u001b[0m",
      "\u001b[1;31mExecuteError\u001b[0m                              Traceback (most recent call last)",
      "\u001b[1;32m<ipython-input-2-a97cf480598b>\u001b[0m in \u001b[0;36m<module>\u001b[1;34m()\u001b[0m\n\u001b[0;32m     11\u001b[0m                 \u001b[0msea_level_rise\u001b[0m\u001b[1;33m=\u001b[0m\u001b[0mslr\u001b[0m\u001b[1;33m,\u001b[0m\u001b[1;33m\u001b[0m\u001b[0m\n\u001b[0;32m     12\u001b[0m                 \u001b[0mfilename\u001b[0m\u001b[1;33m=\u001b[0m\u001b[0mlayer_name\u001b[0m\u001b[1;33m,\u001b[0m\u001b[1;33m\u001b[0m\u001b[0m\n\u001b[1;32m---> 13\u001b[1;33m                 \u001b[0mworkspace\u001b[0m\u001b[1;33m=\u001b[0m\u001b[0mworkspace\u001b[0m\u001b[1;33m\u001b[0m\u001b[0m\n\u001b[0m\u001b[0;32m     14\u001b[0m             )\n\u001b[0;32m     15\u001b[0m \u001b[1;33m\u001b[0m\u001b[0m\n",
      "\u001b[1;32mF:\\phobson\\Tidegates\\python-tidegates\\tidegates\\tidegates.py\u001b[0m in \u001b[0;36mflood_area\u001b[1;34m(dem, polygons, tidegate_column, sea_level_rise, storm_surge, filename, workspace)\u001b[0m\n\u001b[0;32m    108\u001b[0m             \u001b[0mout_polygon_features\u001b[0m\u001b[1;33m=\u001b[0m\u001b[0mtemp_filename\u001b[0m\u001b[1;33m,\u001b[0m\u001b[1;33m\u001b[0m\u001b[0m\n\u001b[0;32m    109\u001b[0m             \u001b[0msimplify\u001b[0m\u001b[1;33m=\u001b[0m\u001b[1;34m\"SIMPLIFY\"\u001b[0m\u001b[1;33m,\u001b[0m\u001b[1;33m\u001b[0m\u001b[0m\n\u001b[1;32m--> 110\u001b[1;33m             \u001b[0mraster_field\u001b[0m\u001b[1;33m=\u001b[0m\u001b[1;34m\"Value\"\u001b[0m\u001b[1;33m\u001b[0m\u001b[0m\n\u001b[0m\u001b[0;32m    111\u001b[0m         )\n\u001b[0;32m    112\u001b[0m \u001b[1;33m\u001b[0m\u001b[0m\n",
      "\u001b[1;32mC:\\Program Files (x86)\\ArcGIS\\Desktop10.2\\arcpy\\arcpy\\conversion.pyc\u001b[0m in \u001b[0;36mRasterToPolygon\u001b[1;34m(in_raster, out_polygon_features, simplify, raster_field)\u001b[0m\n\u001b[0;32m    242\u001b[0m         \u001b[1;32mreturn\u001b[0m \u001b[0mretval\u001b[0m\u001b[1;33m\u001b[0m\u001b[0m\n\u001b[0;32m    243\u001b[0m     \u001b[1;32mexcept\u001b[0m \u001b[0mException\u001b[0m\u001b[1;33m,\u001b[0m \u001b[0me\u001b[0m\u001b[1;33m:\u001b[0m\u001b[1;33m\u001b[0m\u001b[0m\n\u001b[1;32m--> 244\u001b[1;33m         \u001b[1;32mraise\u001b[0m \u001b[0me\u001b[0m\u001b[1;33m\u001b[0m\u001b[0m\n\u001b[0m\u001b[0;32m    245\u001b[0m \u001b[1;33m\u001b[0m\u001b[0m\n\u001b[0;32m    246\u001b[0m \u001b[1;33m@\u001b[0m\u001b[0mgptooldoc\u001b[0m\u001b[1;33m(\u001b[0m\u001b[1;34m'RasterToPolyline_conversion'\u001b[0m\u001b[1;33m,\u001b[0m \u001b[0mNone\u001b[0m\u001b[1;33m)\u001b[0m\u001b[1;33m\u001b[0m\u001b[0m\n",
      "\u001b[1;31mExecuteError\u001b[0m: ERROR 000582: Error occurred during execution.\n"
     ]
    }
   ],
   "source": [
    "for surge in tidegates.SURGES.keys():\n",
    "    for slr in SEALEVELRISE:\n",
    "        layer_name = \"prelim_flood_surge{}_rise{}\".format(surge, slr)\n",
    "        print(layer_name)\n",
    "        with tidegates.utils.WorkSpace(workspace), tidegates.utils.OverwriteState(True):\n",
    "            results = tidegates.flood_area(\n",
    "                dem=\"cape_dem\", \n",
    "                polygons=\"ZOI\", \n",
    "                tidegate_column=\"GeoID\",\n",
    "                storm_surge=surge,\n",
    "                sea_level_rise=slr, \n",
    "                filename=layer_name,\n",
    "                workspace=workspace\n",
    "            )\n",
    "            \n",
    "            arcpy.management.AddField(\n",
    "                in_table=results.getOutput(0),\n",
    "                field_name='SLR',\n",
    "                field_type='DOUBLE'\n",
    "            )\n",
    "            \n",
    "            arcpy.management.AddField(\n",
    "                in_table=results.getOutput(0),\n",
    "                field_name='surge',\n",
    "                field_type='TEXT',\n",
    "                field_length=10\n",
    "            )\n",
    "            \n",
    "            cur = arcpy.UpdateCursor(results.getOutput(0))\n",
    "            for row in cur:\n",
    "                row.SLR = slr\n",
    "                row.surge = surge\n",
    "                cur.updateRow(row)\n",
    "\n",
    "            del cur, row\n",
    "            \n",
    "#         arcpy.management.CopyFeatures(\n",
    "#             in_features='{}/{}'.format(ws, layer_name),\n",
    "#             out_feature_class=\"{}.shp\".format(layer_name)\n",
    "#         )"
   ]
  },
  {
   "cell_type": "code",
   "execution_count": null,
   "metadata": {
    "collapsed": false
   },
   "outputs": [],
   "source": [
    "debug"
   ]
  },
  {
   "cell_type": "code",
   "execution_count": null,
   "metadata": {
    "collapsed": false
   },
   "outputs": [],
   "source": [
    "layers = []\n",
    "for slr in range(7):\n",
    "    for surge in SURGES.keys():\n",
    "        layers.append(\"prelim_flood_surge{}_rise{}\".format(surge, slr))\n",
    "\n",
    "with tidegates.utils.WorkSpace(ws), tidegates.utils.OverwriteState(True):\n",
    "    arcpy.management.Merge(layers, 'merged_01')"
   ]
  },
  {
   "cell_type": "code",
   "execution_count": null,
   "metadata": {
    "collapsed": false,
    "scrolled": true
   },
   "outputs": [],
   "source": [
    "if 1:\n",
    "    surge = '10yr'\n",
    "    for slr in SEALEVELRISE:\n",
    "        elevation = MHHW + SURGES[surge] + slr * 0.5\n",
    "        layer_name = \"prelim_flood_surge{}_rise{}\".format(surge, n)\n",
    "        print(layer_name)\n",
    "        with tidegates.utils.WorkSpace(ws), tidegates.utils.OverwriteState(True):\n",
    "            tidegates.flood_area(\n",
    "                dem=\"cape_dem\", \n",
    "                polygons=\"ZOI\", \n",
    "                tidegate_column=\"GeoID\", \n",
    "                elevation=elevation, \n",
    "                filename=layer_name\n",
    "            )"
   ]
  },
  {
   "cell_type": "code",
   "execution_count": null,
   "metadata": {
    "collapsed": false
   },
   "outputs": [],
   "source": [
    "if 1:\n",
    "    surge = '50yr'\n",
    "    for slr in SEALEVELRISE:\n",
    "        elevation = MHHW + SURGES[surge] + slr * 0.5\n",
    "        layer_name = \"prelim_flood_surge{}_rise{}\".format(surge, slr)\n",
    "        print(layer_name)\n",
    "        with tidegates.utils.WorkSpace(ws), tidegates.utils.OverwriteState(True):\n",
    "            tidegates.flood_area(\n",
    "                dem=\"cape_dem\", \n",
    "                polygons=\"ZOI\", \n",
    "                tidegate_column=\"GeoID\", \n",
    "                elevation=elevation, \n",
    "                filename=layer_name\n",
    "            )"
   ]
  },
  {
   "cell_type": "code",
   "execution_count": null,
   "metadata": {
    "collapsed": false
   },
   "outputs": [],
   "source": [
    "pwd"
   ]
  },
  {
   "cell_type": "code",
   "execution_count": null,
   "metadata": {
    "collapsed": false
   },
   "outputs": [],
   "source": [
    "# check the max/min elevations of each ZOI\n",
    "with tidegates.utils.Extension(\"spatial\"), tidegates.utils.WorkSpace(ws):\n",
    "    arcpy.sa.ZonalStatisticsAsTable(\n",
    "        in_zone_data=\"ZOI\", \n",
    "        zone_field=\"GeoID\",\n",
    "        in_value_raster=\"cape_dem\",\n",
    "        out_table=\"max_elev\",\n",
    "    )\n",
    "    "
   ]
  },
  {
   "cell_type": "code",
   "execution_count": null,
   "metadata": {
    "collapsed": true
   },
   "outputs": [],
   "source": [
    "import fiona"
   ]
  },
  {
   "cell_type": "code",
   "execution_count": null,
   "metadata": {
    "collapsed": false
   },
   "outputs": [],
   "source": [
    "def compileFloods(template, outputshp, gate_col=\"gridcode\", mode='w'):\n",
    "\n",
    "    #_check_mode(mode)\n",
    "    with fiona.open(template, 'r') as src:\n",
    "        shp_params = dict(driver=src.driver, crs=src.crs, schema=src.schema)\n",
    "\n",
    "    with fiona.open(outputshp, mode, **shp_params) as outshp:\n",
    "        for slr in SEALEVELRISE:\n",
    "            for surge in SURGES.keys():\n",
    "                layer_name = \"prelim_flood_surge{}_rise{}\".format(surge, slr)\n",
    "                dummy = arcpy.management.CopyFeatures(\n",
    "                    in_features=layer_name,\n",
    "                    out_feature_class='../dummy.shp'\n",
    "\n",
    "                )\n",
    "\n",
    "                with fiona.open(dummy.getOutput(0)) as newshp:\n",
    "                    for record in newshp:\n",
    "                        record['properties']['SLR'] = slr\n",
    "                        record['properties']['surge'] = surge\n",
    "\n",
    "                        if record['properties'][gate_col] > 0:\n",
    "                            outshp.write(record)\n"
   ]
  },
  {
   "cell_type": "code",
   "execution_count": null,
   "metadata": {
    "collapsed": false
   },
   "outputs": [],
   "source": [
    "with tidegates.utils.WorkSpace(ws), tidegates.utils.OverwriteState(True):\n",
    "    compileFloods(\"../flood_template.shp\", \"../mb_floods.shp\")"
   ]
  },
  {
   "cell_type": "code",
   "execution_count": null,
   "metadata": {
    "collapsed": false
   },
   "outputs": [],
   "source": [
    "debug"
   ]
  },
  {
   "cell_type": "code",
   "execution_count": null,
   "metadata": {
    "collapsed": true
   },
   "outputs": [],
   "source": []
  }
 ],
 "metadata": {
  "kernelspec": {
   "display_name": "Python 2",
   "language": "python",
   "name": "python2"
  },
  "language_info": {
   "codemirror_mode": {
    "name": "ipython",
    "version": 2
   },
   "file_extension": ".py",
   "mimetype": "text/x-python",
   "name": "python",
   "nbconvert_exporter": "python",
   "pygments_lexer": "ipython2",
   "version": "2.7.5"
  }
 },
 "nbformat": 4,
 "nbformat_minor": 0
}

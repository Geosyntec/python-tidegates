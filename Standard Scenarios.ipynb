{
 "cells": [
  {
   "cell_type": "code",
   "execution_count": null,
   "metadata": {
    "collapsed": true
   },
   "outputs": [],
   "source": [
    "import os\n",
    "\n",
    "import arcpy\n",
    "\n",
    "import numpy\n",
    "\n",
    "import tidegates\n",
    "\n",
    "ws = \"../MB_results_prelim.gdb/\"\n",
    "\n",
    "MHHW = 2  # GUESS\n",
    "SEALEVELRISE = numpy.arange(0, 7) # 0 through 6 in 1-ft increments\n",
    "SURGES = {\n",
    "    '10yr':  1.2, #8.0, #  10-yr (approx)\n",
    "    '50yr':  2.4, #9.6, #  50-yr (approx)\n",
    "    '100yr': 3.6, #10.5 # 100-yr (guess\n",
    "}"
   ]
  },
  {
   "cell_type": "code",
   "execution_count": null,
   "metadata": {
    "collapsed": false,
    "scrolled": false
   },
   "outputs": [],
   "source": [
    "if 1:\n",
    "    surge = '10yr'\n",
    "    for slr in SEALEVELRISE:\n",
    "        elevation = MHHW + SURGES[surge] + slr * 0.5\n",
    "        layer_name = \"prelim_flood_surge{}_rise{}\".format(surge, slr)\n",
    "        print(layer_name)\n",
    "        with tidegates.utils.WorkSpace(ws), tidegates.utils.OverwriteState(True):\n",
    "            results = tidegates.flood_area(\n",
    "                dem=\"cape_dem\", \n",
    "                polygons=\"ZOI\", \n",
    "                tidegate_column=\"GeoID\", \n",
    "                elevation=elevation, \n",
    "                filename=layer_name\n",
    "            )\n",
    "            \n",
    "            arcpy.management.AddField(\n",
    "                in_table=results.getOutput(0),\n",
    "                field_name='SLR',\n",
    "                field_type='DOUBLE'\n",
    "            )\n",
    "            \n",
    "            arcpy.management.AddField(\n",
    "                in_table=results.getOutput(0),\n",
    "                field_name='surge',\n",
    "                field_type='TEXT',\n",
    "                field_length=10\n",
    "            )\n",
    "            \n",
    "            cur = arcpy.UpdateCursor(results.getOutput(0))\n",
    "            for row in cur:\n",
    "                row.SLR = slr\n",
    "                row.surge = surge\n",
    "                cur.updateRow(row)\n",
    "\n",
    "            del cur, row\n",
    "            \n",
    "#         arcpy.management.CopyFeatures(\n",
    "#             in_features='{}/{}'.format(ws, layer_name),\n",
    "#             out_feature_class=\"{}.shp\".format(layer_name)\n",
    "#         )"
   ]
  },
  {
   "cell_type": "code",
   "execution_count": null,
   "metadata": {
    "collapsed": false
   },
   "outputs": [],
   "source": [
    "layers = []\n",
    "for slr in range(7):\n",
    "    for surge in SURGES.keys():\n",
    "        layers.append(\"prelim_flood_surge{}_rise{}\".format(surge, slr))\n",
    "\n",
    "with tidegates.utils.WorkSpace(ws), tidegates.utils.OverwriteState(True):\n",
    "    arcpy.management.Merge(layers, 'merged_01')"
   ]
  },
  {
   "cell_type": "code",
   "execution_count": null,
   "metadata": {
    "collapsed": false,
    "scrolled": true
   },
   "outputs": [],
   "source": [
    "if 1:\n",
    "    surge = '10yr'\n",
    "    for slr in SEALEVELRISE:\n",
    "        elevation = MHHW + SURGES[surge] + slr * 0.5\n",
    "        layer_name = \"prelim_flood_surge{}_rise{}\".format(surge, n)\n",
    "        print(layer_name)\n",
    "        with tidegates.utils.WorkSpace(ws), tidegates.utils.OverwriteState(True):\n",
    "            tidegates.flood_area(\n",
    "                dem=\"cape_dem\", \n",
    "                polygons=\"ZOI\", \n",
    "                tidegate_column=\"GeoID\", \n",
    "                elevation=elevation, \n",
    "                filename=layer_name\n",
    "            )"
   ]
  },
  {
   "cell_type": "code",
   "execution_count": null,
   "metadata": {
    "collapsed": false
   },
   "outputs": [],
   "source": [
    "if 1:\n",
    "    surge = '50yr'\n",
    "    for slr in SEALEVELRISE:\n",
    "        elevation = MHHW + SURGES[surge] + slr * 0.5\n",
    "        layer_name = \"prelim_flood_surge{}_rise{}\".format(surge, slr)\n",
    "        print(layer_name)\n",
    "        with tidegates.utils.WorkSpace(ws), tidegates.utils.OverwriteState(True):\n",
    "            tidegates.flood_area(\n",
    "                dem=\"cape_dem\", \n",
    "                polygons=\"ZOI\", \n",
    "                tidegate_column=\"GeoID\", \n",
    "                elevation=elevation, \n",
    "                filename=layer_name\n",
    "            )"
   ]
  },
  {
   "cell_type": "code",
   "execution_count": null,
   "metadata": {
    "collapsed": false
   },
   "outputs": [],
   "source": [
    "pwd"
   ]
  },
  {
   "cell_type": "code",
   "execution_count": null,
   "metadata": {
    "collapsed": false
   },
   "outputs": [],
   "source": [
    "# check the max/min elevations of each ZOI\n",
    "with tidegates.utils.Extension(\"spatial\"), tidegates.utils.WorkSpace(ws):\n",
    "    arcpy.sa.ZonalStatisticsAsTable(\n",
    "        in_zone_data=\"ZOI\", \n",
    "        zone_field=\"GeoID\",\n",
    "        in_value_raster=\"cape_dem\",\n",
    "        out_table=\"max_elev\",\n",
    "    )\n",
    "    "
   ]
  },
  {
   "cell_type": "code",
   "execution_count": null,
   "metadata": {
    "collapsed": true
   },
   "outputs": [],
   "source": [
    "import fiona"
   ]
  },
  {
   "cell_type": "code",
   "execution_count": null,
   "metadata": {
    "collapsed": false
   },
   "outputs": [],
   "source": [
    "def compileFloods(template, outputshp, gate_col=\"gridcode\", mode='w'):\n",
    "\n",
    "    #_check_mode(mode)\n",
    "    with fiona.open(template, 'r') as src:\n",
    "        shp_params = dict(driver=src.driver, crs=src.crs, schema=src.schema)\n",
    "\n",
    "    with fiona.open(outputshp, mode, **shp_params) as outshp:\n",
    "        for slr in SEALEVELRISE:\n",
    "            for surge in SURGES.keys():\n",
    "                layer_name = \"prelim_flood_surge{}_rise{}\".format(surge, slr)\n",
    "                dummy = arcpy.management.CopyFeatures(\n",
    "                    in_features=layer_name,\n",
    "                    out_feature_class='../dummy.shp'\n",
    "\n",
    "                )\n",
    "\n",
    "                with fiona.open(dummy.getOutput(0)) as newshp:\n",
    "                    for record in newshp:\n",
    "                        record['properties']['SLR'] = slr\n",
    "                        record['properties']['surge'] = surge\n",
    "\n",
    "                        if record['properties'][gate_col] > 0:\n",
    "                            outshp.write(record)\n"
   ]
  },
  {
   "cell_type": "code",
   "execution_count": null,
   "metadata": {
    "collapsed": false
   },
   "outputs": [],
   "source": [
    "with tidegates.utils.WorkSpace(ws), tidegates.utils.OverwriteState(True):\n",
    "    compileFloods(\"../flood_template.shp\", \"../mb_floods.shp\")"
   ]
  },
  {
   "cell_type": "code",
   "execution_count": null,
   "metadata": {
    "collapsed": false
   },
   "outputs": [],
   "source": [
    "debug"
   ]
  },
  {
   "cell_type": "code",
   "execution_count": null,
   "metadata": {
    "collapsed": true
   },
   "outputs": [],
   "source": []
  }
 ],
 "metadata": {
  "kernelspec": {
   "display_name": "Python 2",
   "language": "python",
   "name": "python2"
  },
  "language_info": {
   "codemirror_mode": {
    "name": "ipython",
    "version": 2
   },
   "file_extension": ".py",
   "mimetype": "text/x-python",
   "name": "python",
   "nbconvert_exporter": "python",
   "pygments_lexer": "ipython2",
   "version": "2.7.5"
  }
 },
 "nbformat": 4,
 "nbformat_minor": 0
}

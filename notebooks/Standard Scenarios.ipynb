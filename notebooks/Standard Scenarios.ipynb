{
 "cells": [
  {
   "cell_type": "markdown",
   "metadata": {},
   "source": [
    "### Import all thte libraries we need"
   ]
  },
  {
   "cell_type": "code",
   "execution_count": null,
   "metadata": {
    "collapsed": true
   },
   "outputs": [],
   "source": [
    "import os\n",
    "\n",
    "import arcpy\n",
    "import numpy\n",
    "\n",
    "import tidegates\n",
    "from tidegates import utils"
   ]
  },
  {
   "cell_type": "markdown",
   "metadata": {},
   "source": [
    "### Define variables related to the scenarios we'll evaluate"
   ]
  },
  {
   "cell_type": "code",
   "execution_count": null,
   "metadata": {
    "collapsed": false
   },
   "outputs": [],
   "source": [
    "SURGES = {\n",
    "    'MHHW' :  4.0, # FEET\n",
    "    '10yr' :  8.0, # FEET\n",
    "    '50yr' :  9.6, # FEET\n",
    "    '100yr': 10.5, # FEET\n",
    "}\n",
    "SEALEVELRISE = numpy.arange(7) # FEET"
   ]
  },
  {
   "cell_type": "markdown",
   "metadata": {},
   "source": [
    "### Information about the input datasets"
   ]
  },
  {
   "cell_type": "code",
   "execution_count": null,
   "metadata": {
    "collapsed": true
   },
   "outputs": [],
   "source": [
    "params = dict(\n",
    "    workspace=r'F:\\phobson\\Tidegates\\MB_Small.gdb',\n",
    "    dem=r'dem_x08',\n",
    "    polygons=r'ZOI',\n",
    "    wetlands=r'wetlands',\n",
    "    buildings=r'buildings',\n",
    "    ID_column='GeoID',\n",
    "    flood_filename='SS_ipynb_fld',\n",
    "    building_filename='SS_ipynb_bldg',\n",
    ")"
   ]
  },
  {
   "cell_type": "markdown",
   "metadata": {},
   "source": [
    "### Create the Toolbox object "
   ]
  },
  {
   "cell_type": "code",
   "execution_count": null,
   "metadata": {
    "collapsed": false
   },
   "outputs": [],
   "source": [
    "flooder = tidegates.toolbox.StandardScenarios()"
   ]
  },
  {
   "cell_type": "markdown",
   "metadata": {},
   "source": [
    "## Run the Analysis "
   ]
  },
  {
   "cell_type": "code",
   "execution_count": null,
   "metadata": {
    "collapsed": false
   },
   "outputs": [],
   "source": [
    "all_floods = []\n",
    "all_buildings = []\n",
    "with utils.WorkSpace(params['workspace']), utils.OverwriteState(True):\n",
    "    for surge, surge_elev in SURGES.items():\n",
    "        for slr in SEALEVELRISE:\n",
    "            print(surge, slr)\n",
    "            fldlyr, blgdlyr = flooder._analyze(surge=surge, slr=slr, **params)\n",
    "            all_floods.append(fldlyr.dataSource)\n",
    "            all_buildings.append(blgdlyr.dataSource)\n",
    "\n",
    "    flooder._finish_result(all_floods, all_buildings, **params)"
   ]
  }
 ],
 "metadata": {
  "kernelspec": {
   "display_name": "Python 2",
   "language": "python",
   "name": "python2"
  },
  "language_info": {
   "codemirror_mode": {
    "name": "ipython",
    "version": 2
   },
   "file_extension": ".py",
   "mimetype": "text/x-python",
   "name": "python",
   "nbconvert_exporter": "python",
   "pygments_lexer": "ipython2",
   "version": "2.7.10"
  }
 },
 "nbformat": 4,
 "nbformat_minor": 0
}

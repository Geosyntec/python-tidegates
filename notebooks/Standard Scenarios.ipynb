{
 "cells": [
  {
   "cell_type": "markdown",
   "metadata": {},
   "source": [
    "### Import all the libraries we need"
   ]
  },
  {
   "cell_type": "code",
   "execution_count": null,
   "metadata": {
    "collapsed": true
   },
   "outputs": [],
   "source": [
    "import tidegates\n",
    "from tidegates import utils"
   ]
  },
  {
   "cell_type": "markdown",
   "metadata": {},
   "source": [
    "### Create the Toolbox object and run the analysis "
   ]
  },
  {
   "cell_type": "code",
   "execution_count": null,
   "metadata": {
    "collapsed": false
   },
   "outputs": [],
   "source": [
    "workspace = r'F:\\phobson\\Tidegates\\MB_Small.gdb'\n",
    "flooder = tidegates.StandardScenarios()\n",
    "\n",
    "with utils.OverwriteState(True):\n",
    "    flooder.main_execute(\n",
    "        workspace=workspace,\n",
    "        dem='dem_x08',\n",
    "        polygons='ZOI',\n",
    "        wetlands='wetlands',\n",
    "        buildings='buildings',\n",
    "        ID_column='GeoID',\n",
    "        flood_output='SS_ipynb_flood',\n",
    "        building_output='SS_ipynb_bldg',\n",
    "        wetland_output='SS_ipynb_wetland',\n",
    "    )"
   ]
  }
 ],
 "metadata": {
  "kernelspec": {
   "display_name": "Python 2",
   "language": "python",
   "name": "python2"
  },
  "language_info": {
   "codemirror_mode": {
    "name": "ipython",
    "version": 2
   },
   "file_extension": ".py",
   "mimetype": "text/x-python",
   "name": "python",
   "nbconvert_exporter": "python",
   "pygments_lexer": "ipython2",
   "version": "2.7.10"
  }
 },
 "nbformat": 4,
 "nbformat_minor": 0
}

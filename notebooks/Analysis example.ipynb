{
 "cells": [
  {
   "cell_type": "markdown",
   "metadata": {},
   "source": [
    "### Import all the libraries we need"
   ]
  },
  {
   "cell_type": "code",
   "execution_count": null,
   "metadata": {
    "collapsed": true
   },
   "outputs": [],
   "source": [
    "import tidegates\n",
    "from tidegates import utils"
   ]
  },
  {
   "cell_type": "markdown",
   "metadata": {},
   "source": [
    "### Perform the analysis\n",
    "\n",
    "The toolboxes are capable of evaluating\n",
    "  1. the extent and area of flooding\n",
    "  1. the number of buildings that recieve some amount of flooding\n",
    "  1. the extent and area of flooding within wetlands.\n",
    "  \n",
    "The cell below will do all of that, and count the number of distinct wetlands impacted by each flood"
   ]
  },
  {
   "cell_type": "code",
   "execution_count": null,
   "metadata": {
    "collapsed": false
   },
   "outputs": [],
   "source": [
    "# common parameters\n",
    "workspace = r'F:\\phobson\\Tidegates\\MB_Small.gdb'\n",
    "flood_elev = 13.8 # ft MSL\n",
    "flood_output = 'Example_flood'\n",
    "id_col = 'GeoID'\n",
    "\n",
    "with utils.WorkSpace(workspace), utils.OverwriteState(True):\n",
    "    \n",
    "    # estimate the spatial extent of the floods\n",
    "    flooded_zones = tidegates.flood_area(\n",
    "        dem='dem_x08',\n",
    "        zones='ZOI',\n",
    "        ID_column=id_col,\n",
    "        elevation_feet=flood_elev,\n",
    "        filename=flood_output,\n",
    "    )\n",
    "    \n",
    "    # add a field to the output's attribute table indicating the flood elevation\n",
    "    utils.add_field_with_value(\n",
    "        table=flood_output,\n",
    "        field_name='flood_elev',\n",
    "        field_value=flood_elev,\n",
    "    )\n",
    "    \n",
    "    # count the number of buildings impacted\n",
    "    tidegates.count_of_impacts(\n",
    "        floods_path=flood_output,\n",
    "        flood_idcol=id_col,\n",
    "        assets_input='buildings', # building footprint layer in the GeoDB,\n",
    "        asset_idcol='STRUCT_ID', # unique field for each building\n",
    "        fieldname='N_bldgs', # name of the field we'll add to 'Example_flood'\n",
    "    )\n",
    "\n",
    "    # count the number of wetlands impacted\n",
    "    tidegates.count_of_impacts(\n",
    "        floods_path=flood_output,\n",
    "        flood_idcol=id_col,\n",
    "        assets_input='wetlands', # wetlands layer in the GeoDB\n",
    "        asset_idcol='WETCODE', # unique field for each wetland\n",
    "        fieldname='N_wtlds', # name of the field we'll add to 'Example_flood'\n",
    "    )    \n",
    "\n",
    "    # sum up the area of impacted wetlands behind each tidegate\n",
    "    tidegates.area_of_impacts(\n",
    "        floods_path=flood_output,\n",
    "        ID_column=id_col,\n",
    "        assets_input='wetlands', # wetlands layer in the GeoDB\n",
    "        fieldname='area_wtlds', # name of the field we'll add to 'Example_flood'\n",
    "    )"
   ]
  },
  {
   "cell_type": "code",
   "execution_count": null,
   "metadata": {
    "collapsed": false
   },
   "outputs": [],
   "source": [
    "debug"
   ]
  },
  {
   "cell_type": "code",
   "execution_count": null,
   "metadata": {
    "collapsed": true
   },
   "outputs": [],
   "source": []
  }
 ],
 "metadata": {
  "kernelspec": {
   "display_name": "Python 2",
   "language": "python",
   "name": "python2"
  },
  "language_info": {
   "codemirror_mode": {
    "name": "ipython",
    "version": 2
   },
   "file_extension": ".py",
   "mimetype": "text/x-python",
   "name": "python",
   "nbconvert_exporter": "python",
   "pygments_lexer": "ipython2",
   "version": "2.7.10"
  }
 },
 "nbformat": 4,
 "nbformat_minor": 0
}

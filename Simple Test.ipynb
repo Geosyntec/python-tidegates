{
 "cells": [
  {
   "cell_type": "code",
   "execution_count": null,
   "metadata": {
    "collapsed": true
   },
   "outputs": [],
   "source": [
    "import tidegates\n",
    "\n",
    "workspace = r\"F:\\phobson\\Tidegates\\python-tidegates\\tidegates\\testing\"\n",
    "dem = r\"F:\\phobson\\Tidegates\\python-tidegates\\tidegates\\testing\\test_dem.tif \"\n",
    "ZOI = r\"F:\\phobson\\Tidegates\\python-tidegates\\tidegates\\testing\\test_zones.shp \"\n",
    "col = \"GeoID\"\n",
    "elev = 9.5 \n"
   ]
  },
  {
   "cell_type": "code",
   "execution_count": null,
   "metadata": {
    "collapsed": false
   },
   "outputs": [],
   "source": [
    "output = r\"test01.shp\"\n",
    "with tidegates.utils.WorkSpace(workspace):\n",
    "    with tidegates.utils.OverwriteState(True):\n",
    "        tidegates.flood_area(dem, ZOI, col, elev, filename=output, verbose=True)"
   ]
  }
 ],
 "metadata": {
  "kernelspec": {
   "display_name": "Python 2",
   "language": "python",
   "name": "python2"
  },
  "language_info": {
   "codemirror_mode": {
    "name": "ipython",
    "version": 2
   },
   "file_extension": ".py",
   "mimetype": "text/x-python",
   "name": "python",
   "nbconvert_exporter": "python",
   "pygments_lexer": "ipython2",
   "version": "2.7.10"
  }
 },
 "nbformat": 4,
 "nbformat_minor": 0
}
